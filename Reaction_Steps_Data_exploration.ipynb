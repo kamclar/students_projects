{
 "cells": [
  {
   "cell_type": "code",
   "execution_count": 1,
   "id": "705c3ada",
   "metadata": {},
   "outputs": [],
   "source": [
    "import pandas as pd\n",
    "import seaborn as sns\n",
    "from rdkit import Chem\n",
    "from rdkit.Chem import AllChem\n",
    "import matplotlib.pyplot as plt\n",
    "from sklearn.decomposition import PCA"
   ]
  },
  {
   "cell_type": "code",
   "execution_count": 2,
   "id": "14e655b0",
   "metadata": {},
   "outputs": [
    {
     "name": "stdout",
     "output_type": "stream",
     "text": [
      "True     5001\n",
      "False    4926\n",
      "Name: is_solved, dtype: int64\n",
      "True     5001\n",
      "False    4744\n",
      "Name: is_solved, dtype: int64\n"
     ]
    },
    {
     "data": {
      "text/plain": [
       "1     2088\n",
       "2     1396\n",
       "13    1142\n",
       "12    1043\n",
       "11     637\n",
       "3      636\n",
       "4      483\n",
       "10     448\n",
       "5      426\n",
       "9      372\n",
       "6      366\n",
       "8      356\n",
       "7      352\n",
       "Name: steps, dtype: int64"
      ]
     },
     "execution_count": 2,
     "metadata": {},
     "output_type": "execute_result"
    }
   ],
   "source": [
    "df = pd.read_csv('data/final_data_after_pipeline.csv')\n",
    "print(df.is_solved.value_counts())\n",
    "df = df[df.steps > 0]\n",
    "df = df.drop_duplicates(subset=['smiles'])\n",
    "print(df.is_solved.value_counts())\n",
    "df.steps.value_counts()"
   ]
  },
  {
   "cell_type": "code",
   "execution_count": 3,
   "id": "79263ff2",
   "metadata": {},
   "outputs": [
    {
     "data": {
      "text/html": [
       "<div>\n",
       "<style scoped>\n",
       "    .dataframe tbody tr th:only-of-type {\n",
       "        vertical-align: middle;\n",
       "    }\n",
       "\n",
       "    .dataframe tbody tr th {\n",
       "        vertical-align: top;\n",
       "    }\n",
       "\n",
       "    .dataframe thead th {\n",
       "        text-align: right;\n",
       "    }\n",
       "</style>\n",
       "<table border=\"1\" class=\"dataframe\">\n",
       "  <thead>\n",
       "    <tr style=\"text-align: right;\">\n",
       "      <th></th>\n",
       "      <th>smiles</th>\n",
       "      <th>orig_smiles</th>\n",
       "      <th>steps</th>\n",
       "      <th>orig_index</th>\n",
       "      <th>is_solved</th>\n",
       "      <th>pipeline_status</th>\n",
       "      <th>syba_score</th>\n",
       "      <th>syba</th>\n",
       "      <th>sa</th>\n",
       "      <th>sc</th>\n",
       "    </tr>\n",
       "  </thead>\n",
       "  <tbody>\n",
       "    <tr>\n",
       "      <th>0</th>\n",
       "      <td>Cc1ncc(COP(=O)(O)O)c(C=O)c1O</td>\n",
       "      <td>Cc1ncc(COP(=O)(O)O)c(C=O)c1O</td>\n",
       "      <td>1</td>\n",
       "      <td>0</td>\n",
       "      <td>True</td>\n",
       "      <td>no_warn</td>\n",
       "      <td>23.635963</td>\n",
       "      <td>23.635963</td>\n",
       "      <td>2.979265</td>\n",
       "      <td>2.881520</td>\n",
       "    </tr>\n",
       "    <tr>\n",
       "      <th>1</th>\n",
       "      <td>CC(=O)C(=O)O</td>\n",
       "      <td>CC(=O)C(=O)O</td>\n",
       "      <td>1</td>\n",
       "      <td>1</td>\n",
       "      <td>True</td>\n",
       "      <td>no_warn</td>\n",
       "      <td>2.978129</td>\n",
       "      <td>2.978129</td>\n",
       "      <td>1.841613</td>\n",
       "      <td>1.361031</td>\n",
       "    </tr>\n",
       "    <tr>\n",
       "      <th>2</th>\n",
       "      <td>C[N+](C)(C)CCO</td>\n",
       "      <td>C[N+](C)(C)CCO</td>\n",
       "      <td>1</td>\n",
       "      <td>2</td>\n",
       "      <td>True</td>\n",
       "      <td>no_warn</td>\n",
       "      <td>20.562749</td>\n",
       "      <td>20.562749</td>\n",
       "      <td>3.003778</td>\n",
       "      <td>1.000185</td>\n",
       "    </tr>\n",
       "    <tr>\n",
       "      <th>3</th>\n",
       "      <td>NCCCNCCCCNCCCN</td>\n",
       "      <td>NCCCNCCCCNCCCN</td>\n",
       "      <td>1</td>\n",
       "      <td>3</td>\n",
       "      <td>True</td>\n",
       "      <td>no_warn</td>\n",
       "      <td>-14.811037</td>\n",
       "      <td>-14.811037</td>\n",
       "      <td>2.178531</td>\n",
       "      <td>2.000314</td>\n",
       "    </tr>\n",
       "    <tr>\n",
       "      <th>4</th>\n",
       "      <td>O=C(O)CCC(=O)O</td>\n",
       "      <td>O=C(O)CCC(=O)O</td>\n",
       "      <td>1</td>\n",
       "      <td>4</td>\n",
       "      <td>True</td>\n",
       "      <td>no_warn</td>\n",
       "      <td>5.412548</td>\n",
       "      <td>5.412548</td>\n",
       "      <td>1.608031</td>\n",
       "      <td>1.517970</td>\n",
       "    </tr>\n",
       "  </tbody>\n",
       "</table>\n",
       "</div>"
      ],
      "text/plain": [
       "                         smiles                   orig_smiles  steps  \\\n",
       "0  Cc1ncc(COP(=O)(O)O)c(C=O)c1O  Cc1ncc(COP(=O)(O)O)c(C=O)c1O      1   \n",
       "1                  CC(=O)C(=O)O                  CC(=O)C(=O)O      1   \n",
       "2                C[N+](C)(C)CCO                C[N+](C)(C)CCO      1   \n",
       "3                NCCCNCCCCNCCCN                NCCCNCCCCNCCCN      1   \n",
       "4                O=C(O)CCC(=O)O                O=C(O)CCC(=O)O      1   \n",
       "\n",
       "   orig_index  is_solved pipeline_status  syba_score       syba        sa  \\\n",
       "0           0       True         no_warn   23.635963  23.635963  2.979265   \n",
       "1           1       True         no_warn    2.978129   2.978129  1.841613   \n",
       "2           2       True         no_warn   20.562749  20.562749  3.003778   \n",
       "3           3       True         no_warn  -14.811037 -14.811037  2.178531   \n",
       "4           4       True         no_warn    5.412548   5.412548  1.608031   \n",
       "\n",
       "         sc  \n",
       "0  2.881520  \n",
       "1  1.361031  \n",
       "2  1.000185  \n",
       "3  2.000314  \n",
       "4  1.517970  "
      ]
     },
     "execution_count": 3,
     "metadata": {},
     "output_type": "execute_result"
    }
   ],
   "source": [
    "df.head()"
   ]
  },
  {
   "cell_type": "code",
   "execution_count": 4,
   "id": "ea48ad3e",
   "metadata": {},
   "outputs": [
    {
     "ename": "SyntaxError",
     "evalue": "invalid syntax (711436957.py, line 4)",
     "output_type": "error",
     "traceback": [
      "\u001b[1;36m  File \u001b[1;32m\"C:\\Users\\kamcl\\AppData\\Local\\Temp\\ipykernel_17848\\711436957.py\"\u001b[1;36m, line \u001b[1;32m4\u001b[0m\n\u001b[1;33m    g.add_legend()wwwwwwwwwwwd\u001b[0m\n\u001b[1;37m                             ^\u001b[0m\n\u001b[1;31mSyntaxError\u001b[0m\u001b[1;31m:\u001b[0m invalid syntax\n"
     ]
    }
   ],
   "source": [
    "g = sns.PairGrid(df[['steps', 'syba', 'sa', 'sc']], hue='steps')\n",
    "g.map_diag(sns.histplot)\n",
    "g.map_offdiag(sns.scatterplot)\n",
    "g.add_legend()"
   ]
  },
  {
   "cell_type": "code",
   "execution_count": null,
   "id": "f610edec",
   "metadata": {},
   "outputs": [],
   "source": [
    "df['steps_bins'] = pd.cut(df['steps'], [0,1,2,13], labels=range(3))\n",
    "df.steps_bins.value_counts()\n",
    "df_solved = df[df.is_solved]\n",
    "\n",
    "g = sns.PairGrid(df_solved[['steps', 'syba', 'sa', 'sc']], hue='steps')\n",
    "g.map_diag(sns.histplot)\n",
    "g.map_offdiag(sns.scatterplot)\n",
    "g.add_legend()"
   ]
  },
  {
   "cell_type": "code",
   "execution_count": null,
   "id": "2c62c9fe",
   "metadata": {},
   "outputs": [],
   "source": [
    "g = sns.PairGrid(df_solved[['steps_bins', 'syba', 'sa', 'sc']], hue='steps_bins')\n",
    "g.map_diag(sns.histplot)\n",
    "g.map_offdiag(sns.scatterplot)\n",
    "g.add_legend()"
   ]
  },
  {
   "cell_type": "code",
   "execution_count": null,
   "id": "a83f4cc8",
   "metadata": {},
   "outputs": [],
   "source": [
    "plt.figure(figsize=(14,4))\n",
    "plt.subplot(131)\n",
    "sns.histplot(x=df.steps)\n",
    "plt.title('Histogram number of steps all')\n",
    "\n",
    "plt.subplot(132)\n",
    "sns.histplot(x=df_solved.steps)\n",
    "plt.title('Histogram number of steps solved')\n",
    "\n",
    "plt.subplot(133)\n",
    "sns.histplot(x=df_solved.steps_bins)\n",
    "plt.title('Histogram number of steps solved binned')"
   ]
  },
  {
   "cell_type": "code",
   "execution_count": null,
   "id": "7b70eb13",
   "metadata": {},
   "outputs": [],
   "source": [
    "mols = [Chem.MolFromSmiles(smi) for smi in df.smiles]\n",
    "mfps = [AllChem.GetMorganFingerprintAsBitVect(mol, 2) for mol in mols]\n",
    "pca = PCA()\n",
    "pca_mfps = pca.fit_transform(mfps)"
   ]
  },
  {
   "cell_type": "code",
   "execution_count": null,
   "id": "56fa4c9d",
   "metadata": {},
   "outputs": [],
   "source": [
    "df_pca_mfps = pd.DataFrame({'PC1':pca_mfps[:,0], 'PC2':pca_mfps[:,1], 'is_solved': df.is_solved,\n",
    "                           'steps':df.steps, 'steps_bins': df.steps_bins})\n",
    "df_pca_mfps_solved = df_pca_mfps[df_pca_mfps.is_solved] "
   ]
  },
  {
   "cell_type": "code",
   "execution_count": null,
   "id": "2708d3b4",
   "metadata": {},
   "outputs": [],
   "source": [
    "plt.figure(figsize=(14,4))\n",
    "plt.subplot(131)\n",
    "sns.scatterplot(x=df_pca_mfps.PC1, y=df_pca_mfps.PC2, hue=df_pca_mfps.steps, alpha=0.7)\n",
    "plt.title('PCA mfps, colored by steps')\n",
    "\n",
    "plt.subplot(132)\n",
    "sns.scatterplot(x=df_pca_mfps.PC1, y=df_pca_mfps.PC2, hue=df_pca_mfps.is_solved, alpha=0.7)\n",
    "plt.title('PCA mfps, colored by solved')\n",
    "\n",
    "plt.subplot(133)\n",
    "sns.scatterplot(x=df_pca_mfps_solved.PC1, y=df_pca_mfps_solved.PC2, hue=df_pca_mfps.steps, alpha=0.7)\n",
    "plt.title('PCA mfps solved, colored by steps')"
   ]
  },
  {
   "cell_type": "code",
   "execution_count": null,
   "id": "db2fa3aa",
   "metadata": {},
   "outputs": [],
   "source": []
  }
 ],
 "metadata": {
  "kernelspec": {
   "display_name": "Python 3 (ipykernel)",
   "language": "python",
   "name": "python3"
  },
  "language_info": {
   "codemirror_mode": {
    "name": "ipython",
    "version": 3
   },
   "file_extension": ".py",
   "mimetype": "text/x-python",
   "name": "python",
   "nbconvert_exporter": "python",
   "pygments_lexer": "ipython3",
   "version": "3.7.9"
  }
 },
 "nbformat": 4,
 "nbformat_minor": 5
}
